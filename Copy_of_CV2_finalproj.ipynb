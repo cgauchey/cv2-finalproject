{
  "cells": [
    {
      "cell_type": "code",
      "execution_count": null,
      "metadata": {
        "colab": {
          "base_uri": "https://localhost:8080/"
        },
        "id": "CiMMKr8mPqaZ",
        "outputId": "34456d2d-4c96-4c16-d193-5cf4713639e8"
      },
      "outputs": [
        {
          "name": "stdout",
          "output_type": "stream",
          "text": [
            "Collecting timm\n",
            "  Downloading timm-0.9.16-py3-none-any.whl (2.2 MB)\n",
            "\u001b[2K     \u001b[90m━━━━━━━━━━━━━━━━━━━━━━━━━━━━━━━━━━━━━━━━\u001b[0m \u001b[32m2.2/2.2 MB\u001b[0m \u001b[31m4.8 MB/s\u001b[0m eta \u001b[36m0:00:00\u001b[0m\n",
            "\u001b[?25hRequirement already satisfied: torch in /usr/local/lib/python3.10/dist-packages (from timm) (2.2.1+cu121)\n",
            "Requirement already satisfied: torchvision in /usr/local/lib/python3.10/dist-packages (from timm) (0.17.1+cu121)\n",
            "Requirement already satisfied: pyyaml in /usr/local/lib/python3.10/dist-packages (from timm) (6.0.1)\n",
            "Requirement already satisfied: huggingface_hub in /usr/local/lib/python3.10/dist-packages (from timm) (0.20.3)\n",
            "Requirement already satisfied: safetensors in /usr/local/lib/python3.10/dist-packages (from timm) (0.4.3)\n",
            "Requirement already satisfied: filelock in /usr/local/lib/python3.10/dist-packages (from huggingface_hub->timm) (3.13.4)\n",
            "Requirement already satisfied: fsspec>=2023.5.0 in /usr/local/lib/python3.10/dist-packages (from huggingface_hub->timm) (2023.6.0)\n",
            "Requirement already satisfied: requests in /usr/local/lib/python3.10/dist-packages (from huggingface_hub->timm) (2.31.0)\n",
            "Requirement already satisfied: tqdm>=4.42.1 in /usr/local/lib/python3.10/dist-packages (from huggingface_hub->timm) (4.66.2)\n",
            "Requirement already satisfied: typing-extensions>=3.7.4.3 in /usr/local/lib/python3.10/dist-packages (from huggingface_hub->timm) (4.11.0)\n",
            "Requirement already satisfied: packaging>=20.9 in /usr/local/lib/python3.10/dist-packages (from huggingface_hub->timm) (24.0)\n",
            "Requirement already satisfied: sympy in /usr/local/lib/python3.10/dist-packages (from torch->timm) (1.12)\n",
            "Requirement already satisfied: networkx in /usr/local/lib/python3.10/dist-packages (from torch->timm) (3.3)\n",
            "Requirement already satisfied: jinja2 in /usr/local/lib/python3.10/dist-packages (from torch->timm) (3.1.3)\n",
            "Collecting nvidia-cuda-nvrtc-cu12==12.1.105 (from torch->timm)\n",
            "  Using cached nvidia_cuda_nvrtc_cu12-12.1.105-py3-none-manylinux1_x86_64.whl (23.7 MB)\n",
            "Collecting nvidia-cuda-runtime-cu12==12.1.105 (from torch->timm)\n",
            "  Using cached nvidia_cuda_runtime_cu12-12.1.105-py3-none-manylinux1_x86_64.whl (823 kB)\n",
            "Collecting nvidia-cuda-cupti-cu12==12.1.105 (from torch->timm)\n",
            "  Using cached nvidia_cuda_cupti_cu12-12.1.105-py3-none-manylinux1_x86_64.whl (14.1 MB)\n",
            "Collecting nvidia-cudnn-cu12==8.9.2.26 (from torch->timm)\n",
            "  Using cached nvidia_cudnn_cu12-8.9.2.26-py3-none-manylinux1_x86_64.whl (731.7 MB)\n",
            "Collecting nvidia-cublas-cu12==12.1.3.1 (from torch->timm)\n",
            "  Using cached nvidia_cublas_cu12-12.1.3.1-py3-none-manylinux1_x86_64.whl (410.6 MB)\n",
            "Collecting nvidia-cufft-cu12==11.0.2.54 (from torch->timm)\n",
            "  Using cached nvidia_cufft_cu12-11.0.2.54-py3-none-manylinux1_x86_64.whl (121.6 MB)\n",
            "Collecting nvidia-curand-cu12==10.3.2.106 (from torch->timm)\n",
            "  Using cached nvidia_curand_cu12-10.3.2.106-py3-none-manylinux1_x86_64.whl (56.5 MB)\n",
            "Collecting nvidia-cusolver-cu12==11.4.5.107 (from torch->timm)\n",
            "  Using cached nvidia_cusolver_cu12-11.4.5.107-py3-none-manylinux1_x86_64.whl (124.2 MB)\n",
            "Collecting nvidia-cusparse-cu12==12.1.0.106 (from torch->timm)\n",
            "  Using cached nvidia_cusparse_cu12-12.1.0.106-py3-none-manylinux1_x86_64.whl (196.0 MB)\n",
            "Collecting nvidia-nccl-cu12==2.19.3 (from torch->timm)\n",
            "  Using cached nvidia_nccl_cu12-2.19.3-py3-none-manylinux1_x86_64.whl (166.0 MB)\n",
            "Collecting nvidia-nvtx-cu12==12.1.105 (from torch->timm)\n",
            "  Using cached nvidia_nvtx_cu12-12.1.105-py3-none-manylinux1_x86_64.whl (99 kB)\n",
            "Requirement already satisfied: triton==2.2.0 in /usr/local/lib/python3.10/dist-packages (from torch->timm) (2.2.0)\n",
            "Collecting nvidia-nvjitlink-cu12 (from nvidia-cusolver-cu12==11.4.5.107->torch->timm)\n",
            "  Using cached nvidia_nvjitlink_cu12-12.4.127-py3-none-manylinux2014_x86_64.whl (21.1 MB)\n",
            "Requirement already satisfied: numpy in /usr/local/lib/python3.10/dist-packages (from torchvision->timm) (1.25.2)\n",
            "Requirement already satisfied: pillow!=8.3.*,>=5.3.0 in /usr/local/lib/python3.10/dist-packages (from torchvision->timm) (9.4.0)\n",
            "Requirement already satisfied: MarkupSafe>=2.0 in /usr/local/lib/python3.10/dist-packages (from jinja2->torch->timm) (2.1.5)\n",
            "Requirement already satisfied: charset-normalizer<4,>=2 in /usr/local/lib/python3.10/dist-packages (from requests->huggingface_hub->timm) (3.3.2)\n",
            "Requirement already satisfied: idna<4,>=2.5 in /usr/local/lib/python3.10/dist-packages (from requests->huggingface_hub->timm) (3.7)\n",
            "Requirement already satisfied: urllib3<3,>=1.21.1 in /usr/local/lib/python3.10/dist-packages (from requests->huggingface_hub->timm) (2.0.7)\n",
            "Requirement already satisfied: certifi>=2017.4.17 in /usr/local/lib/python3.10/dist-packages (from requests->huggingface_hub->timm) (2024.2.2)\n",
            "Requirement already satisfied: mpmath>=0.19 in /usr/local/lib/python3.10/dist-packages (from sympy->torch->timm) (1.3.0)\n",
            "Installing collected packages: nvidia-nvtx-cu12, nvidia-nvjitlink-cu12, nvidia-nccl-cu12, nvidia-curand-cu12, nvidia-cufft-cu12, nvidia-cuda-runtime-cu12, nvidia-cuda-nvrtc-cu12, nvidia-cuda-cupti-cu12, nvidia-cublas-cu12, nvidia-cusparse-cu12, nvidia-cudnn-cu12, nvidia-cusolver-cu12, timm\n",
            "Successfully installed nvidia-cublas-cu12-12.1.3.1 nvidia-cuda-cupti-cu12-12.1.105 nvidia-cuda-nvrtc-cu12-12.1.105 nvidia-cuda-runtime-cu12-12.1.105 nvidia-cudnn-cu12-8.9.2.26 nvidia-cufft-cu12-11.0.2.54 nvidia-curand-cu12-10.3.2.106 nvidia-cusolver-cu12-11.4.5.107 nvidia-cusparse-cu12-12.1.0.106 nvidia-nccl-cu12-2.19.3 nvidia-nvjitlink-cu12-12.4.127 nvidia-nvtx-cu12-12.1.105 timm-0.9.16\n"
          ]
        }
      ],
      "source": [
        "!pip install timm"
      ]
    },
    {
      "cell_type": "code",
      "execution_count": null,
      "metadata": {
        "colab": {
          "base_uri": "https://localhost:8080/"
        },
        "id": "fd5qbH0SCaiy",
        "outputId": "d82776a9-596d-4413-e7f6-7bb557b92d50"
      },
      "outputs": [
        {
          "name": "stdout",
          "output_type": "stream",
          "text": [
            "Mounted at /content/drive\n"
          ]
        }
      ],
      "source": [
        "import cv2\n",
        "import os\n",
        "import numpy as np\n",
        "from pathlib import Path\n",
        "import shutil\n",
        "import zipfile\n",
        "\n",
        "import torch\n",
        "import torch.nn as nn\n",
        "from torchvision.models import vgg19\n",
        "from torch.utils.data import DataLoader, random_split, Dataset\n",
        "from torchvision import transforms, datasets\n",
        "import torch.nn.functional as F\n",
        "import torch.optim as optim\n",
        "from torch.nn import MSELoss\n",
        "from torchvision.utils import make_grid\n",
        "import timm\n",
        "\n",
        "from PIL import Image\n",
        "from pycocotools.coco import COCO\n",
        "import requests # just use zip files instead\n",
        "\n",
        "import matplotlib.pyplot as plt\n",
        "\n",
        "from google.colab import drive\n",
        "drive.mount('/content/drive')"
      ]
    },
    {
      "cell_type": "code",
      "execution_count": null,
      "metadata": {
        "id": "C5bGf0P7kNV-"
      },
      "outputs": [],
      "source": [
        "#COCO Dataset for context\n",
        "#Start with zip file in CV2 folder on drive. Unzips all files to CV2/coco\n",
        "\n",
        "# zip_path = '/content/drive/MyDrive/CV2/coco_test2017.zip'\n",
        "# extract_to = '/content/drive/MyDrive/CV2/coco'\n",
        "# with zipfile.ZipFile(zip_path, 'r') as zip_ref:\n",
        "#     # Extract all the contents into the directory\n",
        "#     zip_ref.extractall(extract_to)\n",
        "# print(\"Files unzipped successfully!\")"
      ]
    },
    {
      "cell_type": "code",
      "execution_count": null,
      "metadata": {
        "colab": {
          "base_uri": "https://localhost:8080/"
        },
        "id": "FoKGvRIZhArT",
        "outputId": "a149a784-6874-4992-a696-2521b85d908c"
      },
      "outputs": [
        {
          "name": "stdout",
          "output_type": "stream",
          "text": [
            "Total files unzipped: 81341\n"
          ]
        }
      ],
      "source": [
        "# Counting the files in CV2/coco, should be 81k\n",
        "# file_count = 0\n",
        "# for root, dirs, files in os.walk(extract_to):\n",
        "#     file_count += len(files)\n",
        "\n",
        "# print(f\"Total files unzipped: {file_count}\")"
      ]
    },
    {
      "cell_type": "code",
      "execution_count": null,
      "metadata": {
        "colab": {
          "base_uri": "https://localhost:8080/"
        },
        "id": "GPWGvkjzkVNW",
        "outputId": "772f62c8-300a-433f-a8aa-d78c30af99e6"
      },
      "outputs": [
        {
          "name": "stdout",
          "output_type": "stream",
          "text": [
            "Drive already mounted at /content/drive; to attempt to forcibly remount, call drive.mount(\"/content/drive\", force_remount=True).\n"
          ]
        }
      ],
      "source": [
        "# Wikiart style dataset\n",
        "# Setup folders for wikiart extract\n",
        "# os.chdir('/content/drive/MyDrive/CV2')\n",
        "# os.makedirs('/content/style', exist_ok=True) # colab local directory\n",
        "# os.makedirs('/content/drive/MyDrive/CV2/style', exist_ok=True)"
      ]
    },
    {
      "cell_type": "code",
      "execution_count": null,
      "metadata": {
        "id": "EsYAQ7nAD0ra"
      },
      "outputs": [],
      "source": [
        "#Unzip style files from gdrive into style folder in CV2\n",
        "# zip_files = ['romanticism.zip', 'rococo.zip', 'neoclassicism.zip', 'impressionism.zip', 'abstract_expressionism.zip']\n",
        "# for zip_file in zip_files:\n",
        "#     with zipfile.ZipFile(zip_file, 'r') as zip_ref:\n",
        "#         # zip_ref.extractall('/content/style')\n",
        "#         zip_ref.extractall('/content/drive/MyDrive/CV2/style')"
      ]
    },
    {
      "cell_type": "code",
      "execution_count": null,
      "metadata": {
        "id": "C0-oHZ4ofPnK"
      },
      "outputs": [],
      "source": [
        "#Move all style files from artist folders to new dir called style2 in drive\n",
        "# os.makedirs('/content/drive/MyDrive/CV2/style2', exist_ok=True)\n",
        "# source_dir = '/content/drive/MyDrive/CV2/style'\n",
        "# destination_dir = '/content/drive/MyDrive/CV2/style2'\n",
        "# folder = ['abstract_expressionism', 'impressionism', 'neoclassicism', 'rococo', 'romanticism']\n",
        "\n",
        "# for genre in folder:\n",
        "#     genre_path = os.path.join(source_dir, genre)\n",
        "#     for root, dirs, files in os.walk(genre_path):\n",
        "#         for file in files:\n",
        "#             if file.lower().endswith('.jpg'):\n",
        "#                 source_file_path = os.path.join(root, file)\n",
        "#                 destination_file_path = os.path.join(genre_path, file)\n",
        "#                 if root != genre_path:\n",
        "#                     shutil.move(source_file_path, destination_file_path)\n",
        "\n",
        "# for genre in folder:\n",
        "#     genre_path = os.path.join(source_dir, genre)\n",
        "#     for file in os.listdir(genre_path):\n",
        "#         if file.lower().endswith('.jpg'):\n",
        "#             source_file_path = os.path.join(genre_path, file)\n",
        "#             destination_file_path = os.path.join(destination_dir, file)\n",
        "#             if os.path.exists(destination_file_path):\n",
        "#                 base, extension = os.path.splitext(destination_file_path)\n",
        "#                 i = 1\n",
        "#                 new_destination_file_path = f\"{base}_{i}{extension}\"\n",
        "#                 while os.path.exists(new_destination_file_path):\n",
        "#                     i += 1\n",
        "#                     new_destination_file_path = f\"{base}_{i}{extension}\"\n",
        "#                 destination_file_path = new_destination_file_path\n",
        "#             shutil.move(source_file_path, destination_file_path)"
      ]
    },
    {
      "cell_type": "code",
      "execution_count": null,
      "metadata": {
        "id": "Y-uHdkjQgFPf"
      },
      "outputs": [],
      "source": [
        "# crop image\n",
        "def preprocess_image(image):\n",
        "    height, width = image.shape[:2]\n",
        "    new_size = min(height, width)\n",
        "    top = (height - new_size) // 2\n",
        "    left = (width - new_size) // 2\n",
        "    right = left + new_size\n",
        "    bottom = top + new_size\n",
        "    image_cropped = image[top:bottom, left:right]\n",
        "    resized_image = cv2.resize(image_cropped, (256, 256))\n",
        "    return resized_image"
      ]
    },
    {
      "cell_type": "code",
      "execution_count": null,
      "metadata": {
        "id": "BoS5Bs76mJW8"
      },
      "outputs": [],
      "source": [
        "# #Setup folders to process images from style2 to styleprocessed\n",
        "# !rm -rf /content/drive/MyDrive/CV2/styleprocessed\n",
        "# os.makedirs('/content/drive/MyDrive/CV2/styleprocessed', exist_ok=True)\n",
        "# data_path = Path('/content/drive/MyDrive/CV2/style2')\n",
        "# style_processed = Path('/content/drive/MyDrive/CV2/styleprocessed')\n",
        "# style_processed.mkdir(parents=True, exist_ok=True)"
      ]
    },
    {
      "cell_type": "code",
      "execution_count": null,
      "metadata": {
        "colab": {
          "base_uri": "https://localhost:8080/"
        },
        "id": "haBINE9asMuD",
        "outputId": "1499cfbf-39ce-483f-c1b0-b3043badd26c"
      },
      "outputs": [
        {
          "name": "stdout",
          "output_type": "stream",
          "text": [
            "Drive already mounted at /content/drive; to attempt to forcibly remount, call drive.mount(\"/content/drive\", force_remount=True).\n",
            "Files: 10000\n"
          ]
        }
      ],
      "source": [
        "# # WikiArt\n",
        "# # Process 'count' number of images and place into styleprocessedfolder\n",
        "\n",
        "# from google.colab import drive\n",
        "# drive.mount('/content/drive')\n",
        "\n",
        "\n",
        "# count = 0\n",
        "# for filename in os.listdir(data_path):\n",
        "#     if filename.lower().endswith('.jpg'):\n",
        "#         image_path = data_path / filename\n",
        "#         image = cv2.imread(str(image_path))\n",
        "#         if image is not None:\n",
        "#             processed_image = preprocess_image(image)\n",
        "#             processed_path = style_processed / filename\n",
        "#             cv2.imwrite(str(processed_path), processed_image)\n",
        "#             count += 1\n",
        "#     if count == 10000:\n",
        "#         break\n",
        "# print(f\"Files: {len(os.listdir('/content/drive/MyDrive/CV2/styleprocessed'))}\")"
      ]
    },
    {
      "cell_type": "code",
      "execution_count": null,
      "metadata": {
        "id": "hDKzteG5bdq7"
      },
      "outputs": [],
      "source": [
        "# #Setup folders to process from coco to coco_style_processed\n",
        "# !rm -rf /content/drive/MyDrive/CV2/coco_styleprocessed\n",
        "# os.makedirs('/content/drive/MyDrive/CV2/coco_styleprocessed', exist_ok=True)\n",
        "# data_path = Path('/content/drive/MyDrive/CV2/coco/test2017')\n",
        "# coco_style_processed = Path('/content/drive/MyDrive/CV2/coco_styleprocessed')\n",
        "# coco_style_processed.mkdir(parents=True, exist_ok=True)"
      ]
    },
    {
      "cell_type": "code",
      "execution_count": null,
      "metadata": {
        "colab": {
          "background_save": true,
          "base_uri": "https://localhost:8080/"
        },
        "id": "Dtr_qboKh2N1",
        "outputId": "166c836d-d21c-449a-ca16-fe374a6185b7"
      },
      "outputs": [
        {
          "name": "stdout",
          "output_type": "stream",
          "text": [
            "Drive already mounted at /content/drive; to attempt to forcibly remount, call drive.mount(\"/content/drive\", force_remount=True).\n"
          ]
        }
      ],
      "source": [
        "# # COCO\n",
        "# # Process 'count' number of images and place into coco_styleprocessedfolder\n",
        "\n",
        "# from google.colab import drive\n",
        "# drive.mount('/content/drive')\n",
        "\n",
        "# count = 0\n",
        "# for filename in os.listdir(data_path):\n",
        "#     if filename.lower().endswith('.jpg'):\n",
        "#         image_path = data_path / filename\n",
        "#         image = cv2.imread(str(image_path))\n",
        "#         if image is not None:\n",
        "#             processed_image = preprocess_image(image) #keep\n",
        "#             processed_path = coco_style_processed / filename #keep\n",
        "#             cv2.imwrite(str(processed_path), processed_image)\n",
        "#             count += 1\n",
        "#     if count == 10000:\n",
        "#         break\n",
        "# print(f\"Files: {len(os.listdir('/content/drive/MyDrive/CV2/coco_styleprocessed'))}\")"
      ]
    },
    {
      "cell_type": "code",
      "execution_count": null,
      "metadata": {
        "colab": {
          "base_uri": "https://localhost:8080/"
        },
        "id": "JoihrqD-WRoT",
        "outputId": "7e25f0fb-512d-4d12-f54e-82074cc5c507"
      },
      "outputs": [
        {
          "name": "stdout",
          "output_type": "stream",
          "text": [
            "Drive already mounted at /content/drive; to attempt to forcibly remount, call drive.mount(\"/content/drive\", force_remount=True).\n",
            "Files: 10000\n",
            "Files: 10000\n"
          ]
        }
      ],
      "source": [
        "from google.colab import drive\n",
        "drive.mount('/content/drive')\n",
        "print(f\"Files: {len(os.listdir('/content/drive/MyDrive/CV2/styleprocessed'))}\")\n",
        "print(f\"Files: {len(os.listdir('/content/drive/MyDrive/CV2/coco_styleprocessed'))}\")"
      ]
    },
    {
      "cell_type": "code",
      "execution_count": null,
      "metadata": {
        "id": "90uWpVPe8XHw"
      },
      "outputs": [],
      "source": [
        "class ImageDataset(Dataset):\n",
        "    def __init__(self, image_dir, transform=None):\n",
        "        self.image_dir = image_dir\n",
        "        self.image_files = sorted(os.listdir(image_dir))\n",
        "        self.transform = transform\n",
        "\n",
        "    def __len__(self):\n",
        "        return len(self.image_files)\n",
        "\n",
        "    def __getitem__(self, index):\n",
        "        image_path = os.path.join(self.image_dir, self.image_files[index])\n",
        "        image = Image.open(image_path).convert('RGB')\n",
        "        if self.transform:\n",
        "            image = self.transform(image)\n",
        "        return image"
      ]
    },
    {
      "cell_type": "code",
      "execution_count": null,
      "metadata": {
        "id": "GDj1m9kWXERE"
      },
      "outputs": [],
      "source": [
        "# Create Dataloaders\n",
        "style_processed = Path('/content/drive/MyDrive/CV2/styleprocessed')\n",
        "\n",
        "transform = transforms.Compose([\n",
        "    transforms.ToTensor(),\n",
        "    transforms.Normalize(mean=[0.485, 0.456, 0.406], std=[0.229, 0.224, 0.225])\n",
        "])\n",
        "dataset = ImageDataset(style_processed, transform=transform)\n",
        "train_dataset, test_dataset = random_split(dataset, [9900, 100])\n",
        "train_style_dataloader = DataLoader(train_dataset, batch_size=8, shuffle=True)\n",
        "test_style_dataloader = DataLoader(test_dataset, batch_size=8, shuffle=False)\n",
        "\n",
        "#####\n",
        "coco_style_processed = Path('/content/drive/MyDrive/CV2/coco_styleprocessed')\n",
        "\n",
        "transform = transforms.Compose([\n",
        "    transforms.ToTensor(),\n",
        "    transforms.Normalize(mean=[0.485, 0.456, 0.406], std=[0.229, 0.224, 0.225])\n",
        "])\n",
        "dataset = ImageDataset(coco_style_processed, transform=transform)\n",
        "train_dataset, test_dataset = random_split(dataset, [9900, 100])\n",
        "train_coco_dataloader = DataLoader(train_dataset, batch_size=8, shuffle=True)\n",
        "test_coco_dataloader = DataLoader(test_dataset, batch_size=8, shuffle=False)"
      ]
    },
    {
      "cell_type": "code",
      "execution_count": null,
      "metadata": {
        "id": "fIALnaOlzW82"
      },
      "outputs": [],
      "source": [
        "# Example of sinusoidal positional encoding implementation in PyTorch\n",
        "\n",
        "# import math\n",
        "# import torch\n",
        "\n",
        "# def sinusoidal_positional_encoding(n_positions, dim_model):\n",
        "#     position_enc = torch.zeros((n_positions, dim_model))\n",
        "#     for pos in range(n_positions):\n",
        "#         for i in range(0, dim_model, 2):\n",
        "#             position_enc[pos, i] = math.sin(pos / (10000 ** ((2 * i)/dim_model)))\n",
        "#             if i + 1 < dim_model:\n",
        "#                 position_enc[pos, i + 1] = math.cos(pos / (10000 ** ((2 * (i + 1))/dim_model)))\n",
        "#     return position_enc"
      ]
    },
    {
      "cell_type": "code",
      "execution_count": null,
      "metadata": {
        "id": "C9WYgQdCNAuf"
      },
      "outputs": [],
      "source": [
        "class TransferNN(nn.Module):\n",
        "    def __init__(self, encoder_name='vit_base_patch16_224', img_size=256):\n",
        "        super(TransferNN, self).__init__()\n",
        "        self.encoder = timm.create_model(encoder_name, pretrained=True, img_size=img_size, num_classes=0)\n",
        "        self.in_features = self.encoder.embed_dim\n",
        "        self.decoder = nn.Sequential(\n",
        "            nn.ConvTranspose2d(self.in_features, 512, kernel_size=4, stride=1, padding=0),  # 4x4\n",
        "            nn.ReLU(inplace=True),\n",
        "            nn.ConvTranspose2d(512, 256, kernel_size=4, stride=2, padding=1),  # 8x8\n",
        "            nn.ReLU(inplace=True),\n",
        "            nn.ConvTranspose2d(256, 128, kernel_size=4, stride=2, padding=1),  # 16x16\n",
        "            nn.ReLU(inplace=True),\n",
        "            nn.ConvTranspose2d(128, 64, kernel_size=4, stride=2, padding=1),  # 32x32\n",
        "            nn.ReLU(inplace=True),\n",
        "            nn.ConvTranspose2d(64, 32, kernel_size=4, stride=2, padding=1),  # 64x64\n",
        "            nn.ReLU(inplace=True),\n",
        "            nn.ConvTranspose2d(32, 16, kernel_size=4, stride=2, padding=1),  # 128x128\n",
        "            nn.ReLU(inplace=True),\n",
        "            nn.ConvTranspose2d(16, 3, kernel_size=4, stride=2, padding=1),  # 256x256\n",
        "            nn.Tanh()\n",
        "        )\n",
        "\n",
        "    def forward(self, content, style):\n",
        "        content_features = self.encoder(content)\n",
        "        style_features = self.encoder(style)\n",
        "        # print(\"content, style:\", content_features.shape, style_features.shape)\n",
        "        combined_features = content_features + style_features\n",
        "        combined_features = combined_features.unsqueeze(-1).unsqueeze(-1)\n",
        "        # print(\"shape after unsqueeze:\", combined_features.shape)\n",
        "        styled_image = self.decoder(combined_features)\n",
        "        # print(\"Output styled image shape:\", styled_image.shape)\n",
        "        return styled_image\n"
      ]
    },
    {
      "cell_type": "code",
      "execution_count": null,
      "metadata": {
        "colab": {
          "base_uri": "https://localhost:8080/"
        },
        "id": "n5cfG28Gb1e9",
        "outputId": "72d630bc-a5fb-434f-947d-26e713691bb1"
      },
      "outputs": [
        {
          "name": "stdout",
          "output_type": "stream",
          "text": [
            "cuda\n"
          ]
        }
      ],
      "source": [
        "device = torch.device(\"cuda\" if torch.cuda.is_available() else \"cpu\")\n",
        "print(device)"
      ]
    },
    {
      "cell_type": "code",
      "execution_count": null,
      "metadata": {
        "colab": {
          "background_save": true,
          "base_uri": "https://localhost:8080/"
        },
        "id": "atyxVtrMJb58",
        "outputId": "769e0ae6-5f56-4daa-b95b-2dda5608528b"
      },
      "outputs": [
        {
          "name": "stdout",
          "output_type": "stream",
          "text": [
            "now = 2024-04-24 14:29:36.077800\n"
          ]
        },
        {
          "name": "stderr",
          "output_type": "stream",
          "text": [
            "/usr/local/lib/python3.10/dist-packages/torchvision/models/_utils.py:208: UserWarning: The parameter 'pretrained' is deprecated since 0.13 and may be removed in the future, please use 'weights' instead.\n",
            "  warnings.warn(\n",
            "/usr/local/lib/python3.10/dist-packages/torchvision/models/_utils.py:223: UserWarning: Arguments other than a weight enum or `None` for 'weights' are deprecated since 0.13 and may be removed in the future. The current behavior is equivalent to passing `weights=VGG19_Weights.IMAGENET1K_V1`. You can also use `weights=VGG19_Weights.DEFAULT` to get the most up-to-date weights.\n",
            "  warnings.warn(msg)\n"
          ]
        },
        {
          "name": "stdout",
          "output_type": "stream",
          "text": [
            "Epoch:  1\n",
            "START date and time = 24/04/2024 14:29:36\n",
            "Epoch 1: Average Loss: 2.1152\n",
            "END date and time = 24/04/2024 14:29:36\n",
            "Model saved to /content/drive/MyDrive/CV2/transfer_model.pth\n"
          ]
        }
      ],
      "source": [
        "from datetime import datetime\n",
        "\n",
        "# datetime object containing current date and time\n",
        "# now = datetime.now()\n",
        "\n",
        "# print(\"now =\", now)\n",
        "\n",
        "model = TransferNN().to(device)\n",
        "optimizer = optim.Adam(model.parameters(), lr=0.001)\n",
        "criterion = MSELoss()\n",
        "\n",
        "vgg = vgg19(pretrained=True).features.to(device)\n",
        "vgg.eval()\n",
        "for param in vgg.parameters():\n",
        "    param.requires_grad = False\n",
        "\n",
        "def gram_matrix(input):\n",
        "    a, b, c, d = input.size()\n",
        "    features = input.view(a, b, c * d)\n",
        "    G = torch.bmm(features, features.transpose(1, 2))\n",
        "    return G.div(b * c * d)\n",
        "\n",
        "# Training settings\n",
        "# num_epochs = 15\n",
        "num_epochs = 1\n",
        "print_interval = 1\n",
        "total_losses = []\n",
        "style_losses = []\n",
        "content_losses = []\n",
        "\n",
        "# Training loop\n",
        "cur_epoch = 0\n",
        "for epoch in range(num_epochs):\n",
        "    cur_epoch +=1\n",
        "    print(\"Epoch: \", cur_epoch)\n",
        "    now = datetime.now()\n",
        "    dt_string = now.strftime(\"%d/%m/%Y %H:%M:%S\")\n",
        "    print(\"START date and time =\", dt_string)\n",
        "\n",
        "\n",
        "    model.train()\n",
        "    total_loss = 0.0\n",
        "    total_style_loss = 0.0\n",
        "    total_content_loss = 0.0\n",
        "\n",
        "    for content_images, style_images in zip(train_coco_dataloader, train_style_dataloader):\n",
        "        content_images = content_images.to(device)\n",
        "        style_images = style_images.to(device)\n",
        "        optimizer.zero_grad()\n",
        "        styled_images = model(content_images, style_images)\n",
        "        # print(\"out: \", styled_images.shape)\n",
        "        # print(\"content: \", content_images.shape)\n",
        "        content_features = vgg(content_images).detach()\n",
        "        styled_features = vgg(styled_images)\n",
        "\n",
        "        content_loss = criterion(styled_features, content_features)\n",
        "        style_features = vgg(style_images).detach()\n",
        "        gram_style = gram_matrix(style_features)\n",
        "        gram_styled = gram_matrix(styled_features)\n",
        "        style_loss = criterion(gram_styled, gram_style)\n",
        "        total = 10 * content_loss + 10000000 * style_loss\n",
        "        temp = total\n",
        "        total.backward()\n",
        "        optimizer.step()\n",
        "\n",
        "        total_loss += temp.item()\n",
        "        total_style_loss += 10000000 * style_loss.item()\n",
        "        total_content_loss += 10 * content_loss.item()\n",
        "\n",
        "    # Record the average loss for this epoch\n",
        "    # print(total_loss)\n",
        "    # print(total_style_loss)\n",
        "    # print(total_content_loss)\n",
        "    length = len(train_coco_dataloader)\n",
        "    total_losses.append(total_loss / length)\n",
        "    style_losses.append(total_style_loss / length)\n",
        "    content_losses.append(total_content_loss / length)\n",
        "    if (epoch + 1) % print_interval == 0:\n",
        "        print(f'Epoch {epoch+1}: Average Loss: {total_loss / len(train_coco_dataloader.dataset):.4f}')\n",
        "\n",
        "    now = datetime.now()\n",
        "    dt_string = now.strftime(\"%d/%m/%Y %H:%M:%S\")\n",
        "    print(\"END date and time =\", dt_string)\n",
        "\n",
        "model_save_path = '/content/drive/MyDrive/CV2/transfer_model.pth'\n",
        "torch.save(model.state_dict(), model_save_path)\n",
        "print(f'Model saved to {model_save_path}')\n"
      ]
    },
    {
      "cell_type": "code",
      "execution_count": 15,
      "metadata": {
        "colab": {
          "base_uri": "https://localhost:8080/",
          "height": 145
        },
        "id": "99DjjZdxMDTa",
        "outputId": "59ac236e-8583-4ee1-aab5-a75d1a66b0d3"
      },
      "outputs": [
        {
          "output_type": "display_data",
          "data": {
            "text/plain": [
              "<Figure size 640x480 with 1 Axes>"
            ],
            "image/png": "[encoded data removed]"
          },
          "metadata": {}
        }
      ],
      "source": [
        "# load model if runtime disconnected\n",
        "model = TransferNN()\n",
        "model_save_path = '/content/drive/MyDrive/CV2/transfer_model.pth'\n",
        "model.load_state_dict(torch.load(model_save_path))\n",
        "model = model.to('cuda')\n",
        "device = torch.device(\"cuda\" if torch.cuda.is_available() else \"cpu\")\n",
        "\n",
        "\n",
        "\n",
        "def imshow(inp, title=None):\n",
        "    \"\"\"Imshow for Tensor.\"\"\"\n",
        "    if inp.is_cuda:\n",
        "        inp = inp.cpu()  # Ensure tensor is on CPU\n",
        "    inp = inp.detach().numpy().transpose((1, 2, 0))  # Convert to numpy array and transpose\n",
        "    mean = np.array([0.485, 0.456, 0.406])  # Normalize mean\n",
        "    std = np.array([0.229, 0.224, 0.225])   # Normalize std deviation\n",
        "    inp = std * inp + mean\n",
        "    inp = np.clip(inp, 0, 1)\n",
        "    plt.imshow(inp)\n",
        "    if title is not None:\n",
        "        plt.title(title)\n",
        "    plt.pause(0.001)  # pause a bit so that plots are updated\n",
        "\n",
        "\n",
        "model.eval()  # Set the model to evaluation mode\n",
        "# Assuming you want to generate images using test dataloaders\n",
        "for content_images, style_images in zip(test_coco_dataloader, test_style_dataloader):\n",
        "    content_images = content_images.to(device)\n",
        "    style_images = style_images.to(device)\n",
        "\n",
        "    with torch.no_grad():  # Disable gradient computation\n",
        "        styled_images = model(content_images, style_images)\n",
        "\n",
        "    # Convert images to CPU and display\n",
        "    grid = make_grid(styled_images)\n",
        "    imshow(grid, title=\"Styled Images\")\n",
        "\n",
        "    break  # Remove break to process more batches or generate more images\n"
      ]
    },
    {
      "cell_type": "code",
      "execution_count": 12,
      "metadata": {
        "colab": {
          "base_uri": "https://localhost:8080/",
          "height": 522
        },
        "id": "9n4KxM4-lXKM",
        "outputId": "c9605b04-d87d-475b-c2ce-b8ac898c4c00"
      },
      "outputs": [
        {
          "output_type": "stream",
          "name": "stdout",
          "text": [
            "[2.5459413525797143]\n",
            "[14.368561287688902]\n"
          ]
        },
        {
          "output_type": "display_data",
          "data": {
            "text/plain": [
              "<Figure size 1000x500 with 1 Axes>"
            ],
            "image/png": "[encoded data removed]"
          },
          "metadata": {}
        }
      ],
      "source": [
        "print(style_losses)\n",
        "print(content_losses)\n",
        "plt.figure(figsize=(10, 5))\n",
        "plt.plot(total_losses, label='Total Loss')\n",
        "plt.plot(style_losses, label='Style Loss')\n",
        "plt.plot(content_losses, label='Content Loss')\n",
        "plt.title('Loss Over Time')\n",
        "plt.xlabel('Epochs')\n",
        "plt.ylabel('Loss')\n",
        "plt.legend()\n",
        "plt.show()"
      ]
    },
    {
      "cell_type": "markdown",
      "metadata": {
        "id": "4HBxBynFgssi"
      },
      "source": [
        "To Do:\n",
        "- upload coco zip files - DONE\n",
        "- GCP Cloud\n",
        "- process style + content images from wiki art and coco, put into data loader for train + test - DONE FOR WIKIART, COCO code done - Danny needs to run COCO code\n",
        "- write neural architecture (assume we use the same model and only modify training loss)\n",
        "  - use encoder + decoder architecture with pytorch's built in vision transformer\n",
        "  - maybe use different postional encoding than authors suggest (or write simple code for sinuisoidal encoding) - ADDED SAMPLE CODE FOR SINUSOIDAL\n",
        "- training loop - 2 diff models --> output image for both loops - ADDED SAMPLE\n",
        "  - 1) train on content loss & style loss. we'll use mean squared error and graham matrix\n",
        "  - 2) add perceptual loss (passing some of the inbetween representations into a pretrained model and obtaining loss that way)\n",
        "  - 1 graphic for loss over time and image\n",
        "- test: - ADDED SAMPLE PLOTTING CODE\n",
        "  - output 10 images from models\n",
        "\n",
        "- write up\n",
        "  - Intro - DONE WITH DRAFT\n",
        "  - Related Work - DONE WITH DRAFT\n",
        "  - Methodology - DONE WITH DRAFT\n",
        "  - Results\n",
        "  - Discussion\n",
        "  - Conclusion\n",
        "  - References\n"
      ]
    }
  ],
  "metadata": {
    "accelerator": "GPU",
    "colab": {
      "gpuType": "T4",
      "provenance": []
    },
    "kernelspec": {
      "display_name": "Python 3",
      "name": "python3"
    },
    "language_info": {
      "name": "python"
    }
  },
  "nbformat": 4,
  "nbformat_minor": 0
}